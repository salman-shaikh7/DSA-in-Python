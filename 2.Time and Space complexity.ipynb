{
 "cells": [
  {
   "cell_type": "markdown",
   "metadata": {},
   "source": [
    "**1.    TIME and SPACE Complexity**"
   ]
  },
  {
   "cell_type": "code",
   "execution_count": 1,
   "metadata": {},
   "outputs": [
    {
     "name": "stdout",
     "output_type": "stream",
     "text": [
      "hello\n"
     ]
    }
   ],
   "source": [
    "print(\"hello\")\n",
    "#time= 1 unit"
   ]
  },
  {
   "cell_type": "code",
   "execution_count": 2,
   "metadata": {},
   "outputs": [
    {
     "name": "stdout",
     "output_type": "stream",
     "text": [
      "Hello\n",
      "Hello\n"
     ]
    }
   ],
   "source": [
    "print(\"Hello\")\n",
    "print(\"Hello\")\n",
    "#time = 2 unit"
   ]
  },
  {
   "cell_type": "code",
   "execution_count": 3,
   "metadata": {},
   "outputs": [
    {
     "name": "stdout",
     "output_type": "stream",
     "text": [
      "Salman\n",
      "Salman\n",
      "Salman\n",
      "Salman\n",
      "Salman\n"
     ]
    }
   ],
   "source": [
    "n=int(input())\n",
    "for i in range(n):\n",
    "    print(\"Salman\")\n",
    "# time= n units"
   ]
  },
  {
   "cell_type": "markdown",
   "metadata": {},
   "source": [
    "**Time Complexity** <br> It is relation between Input Size AND Running time.\n",
    "\n",
    "Relation can be\n",
    "1.  Linear : If n=10 then time=10 unit\n",
    "2.  Quadratic : If n=3 then time=sqr(3)=9 unit\n",
    "3.  Cubic : If n=4 then time=cube(4)=64 unit\n",
    "4.  Log : \n",
    "5.  Sqrt : \n",
    "<br> morever multiple relations can be there."
   ]
  },
  {
   "cell_type": "code",
   "execution_count": 6,
   "metadata": {},
   "outputs": [
    {
     "name": "stdout",
     "output_type": "stream",
     "text": [
      "0\n"
     ]
    }
   ],
   "source": [
    "# example of linear search\n",
    "list1=[1,2,3,4,5]\n",
    "a=1\n",
    "\n",
    "for i in list1:\n",
    "    if i==a:\n",
    "        print(list1.index(a))"
   ]
  },
  {
   "cell_type": "markdown",
   "metadata": {},
   "source": [
    "**Types of Time Complexity**\n",
    "1.  BEST CASE\n",
    "<br> In above example if number we are searching for is at 1st place in list \n",
    "<br> Ω(1)=1 unit time (For above example)\n",
    "\n",
    "2.   AVG CASE\n",
    "<br> In above example if we take avg of all posible cases i.e worst to best i.e 1 unit to n unit\n",
    "<br> (1+2+3+4+5+...+n)/n = (n(n+1)/2)/n = (n+1/2)\n",
    "<br> θ(n+1/2)=(5+1)/2 = 3 unit time\n",
    "\n",
    "3.  WORST CASE\n",
    "<br> In above example if number we are searching for is at last place in list \n",
    "<br> O(n)=5 unit time\n",
    "\n",
    "***We generally consider worst case scenario that is BIG O notation**"
   ]
  },
  {
   "cell_type": "code",
   "execution_count": 11,
   "metadata": {},
   "outputs": [
    {
     "name": "stdout",
     "output_type": "stream",
     "text": [
      "Hello\n",
      "Hello\n",
      "Hello\n",
      "Hello\n"
     ]
    }
   ],
   "source": [
    "n=int(input())\n",
    "for i in range(n):\n",
    "    for i in range(n):\n",
    "        print(\"Hello\")"
   ]
  },
  {
   "cell_type": "markdown",
   "metadata": {},
   "source": [
    "Now in above case BIG O notation for Time complexity is **O(n^2)**"
   ]
  },
  {
   "cell_type": "code",
   "execution_count": 12,
   "metadata": {},
   "outputs": [
    {
     "name": "stdout",
     "output_type": "stream",
     "text": [
      "Hello\n",
      "Hello\n",
      "Hello\n",
      "Hello\n",
      "Hello\n",
      "Hello\n"
     ]
    }
   ],
   "source": [
    "m=int(input())\n",
    "n=int(input())\n",
    "\n",
    "for i in range(n): # outer loop N times\n",
    "    for i in range(m): #inner loop M times\n",
    "        print(\"Hello\")"
   ]
  },
  {
   "cell_type": "markdown",
   "metadata": {},
   "source": [
    "Now in above case BIG O notation for Time complexity is **O(n*m)**"
   ]
  },
  {
   "cell_type": "code",
   "execution_count": 13,
   "metadata": {},
   "outputs": [
    {
     "name": "stdout",
     "output_type": "stream",
     "text": [
      "Hello\n",
      "Hello\n",
      "Hello\n",
      "Hello\n",
      "Hello\n",
      "Hello\n",
      "Hello\n",
      "Hello\n"
     ]
    }
   ],
   "source": [
    "m=int(input())\n",
    "n=int(input())\n",
    "\n",
    "for i in range(n): #Loop 1\n",
    "    print(\"Hello\")\n",
    "\n",
    "for i in range(m): #Loop 1\n",
    "    print(\"Hello\")"
   ]
  },
  {
   "cell_type": "markdown",
   "metadata": {},
   "source": [
    "Now in above case BIG O notation for Time complexity is **O(m+n)**"
   ]
  },
  {
   "cell_type": "markdown",
   "metadata": {},
   "source": [
    "**SPACE COMPLIXITY**"
   ]
  },
  {
   "cell_type": "code",
   "execution_count": null,
   "metadata": {},
   "outputs": [],
   "source": [
    "n=int(input())\n",
    "\n",
    "for i in range(n):\n",
    "    print(\"Hello\")"
   ]
  },
  {
   "cell_type": "markdown",
   "metadata": {},
   "source": [
    "In above example input size will be constant. means one interger it may be any will take same memory.\n",
    "<br>\n",
    "<br>\n",
    "If input will be an Array then space required will change according to size of array."
   ]
  },
  {
   "cell_type": "markdown",
   "metadata": {},
   "source": []
  }
 ],
 "metadata": {
  "kernelspec": {
   "display_name": "Python 3.10.3 64-bit",
   "language": "python",
   "name": "python3"
  },
  "language_info": {
   "codemirror_mode": {
    "name": "ipython",
    "version": 3
   },
   "file_extension": ".py",
   "mimetype": "text/x-python",
   "name": "python",
   "nbconvert_exporter": "python",
   "pygments_lexer": "ipython3",
   "version": "3.10.3"
  },
  "orig_nbformat": 4,
  "vscode": {
   "interpreter": {
    "hash": "26de051ba29f2982a8de78e945f0abaf191376122a1563185a90213a26c5da77"
   }
  }
 },
 "nbformat": 4,
 "nbformat_minor": 2
}
